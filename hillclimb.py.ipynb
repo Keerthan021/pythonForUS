{
 "cells": [
  {
   "cell_type": "code",
   "execution_count": 1,
   "id": "7ce8d00a",
   "metadata": {},
   "outputs": [
    {
     "name": "stdout",
     "output_type": "stream",
     "text": [
      "Step 0: ['A', 'B', 'C']\n",
      "Current heuristic for Step 0 is: 2\n",
      "Step 1: ['B', 'A', 'C']\n",
      "Current heuristic for Step 1 is: 0\n",
      "Step 2: ['C', 'A', 'B']\n",
      "\n",
      "Final state: ['C', 'A', 'B']\n",
      "Total moves: 2\n"
     ]
    }
   ],
   "source": [
    "initial_state = ['A', 'B', 'C']\n",
    "goal_state = ['C', 'A', 'B']\n",
    "\n",
    "\n",
    "def misplaced_blocks(state):\n",
    "    return sum(state[i] != goal_state[i] for i in range(len(state)))\n",
    "\n",
    "def hill_climbing(state):\n",
    "    current_state = state\n",
    "    moves = 0\n",
    "\n",
    "    print(f\"Step 0: {current_state}\")\n",
    "\n",
    "    while True:\n",
    "        best_state = current_state\n",
    "        best_eval = misplaced_blocks(current_state)\n",
    "\n",
    "        for i in range(len(state)):\n",
    "            for j in range(i + 1, len(state)):\n",
    "                new_state = current_state[:]\n",
    "                new_state[i], new_state[j] = new_state[j], new_state[i]\n",
    "                new_eval = misplaced_blocks(new_state)\n",
    "                # print(current_state)\n",
    "\n",
    "                if new_eval < best_eval:\n",
    "                    \n",
    "                    best_state = new_state\n",
    "                    # print(best_state)\n",
    "                    best_eval = new_eval\n",
    "                    print(f\"Current heuristic for Step {moves} is: {best_eval}\")\n",
    "\n",
    "        if best_eval == misplaced_blocks(current_state):\n",
    "            break\n",
    "\n",
    "        current_state = best_state\n",
    "        moves += 1\n",
    "        print(f\"Step {moves}: {current_state}\")\n",
    "\n",
    "    return current_state, moves\n",
    "\n",
    "final_state, total_moves = hill_climbing(initial_state)\n",
    "print(f\"\\nFinal state: {final_state}\")\n",
    "print(f\"Total moves: {total_moves}\")\n"
   ]
  },
  {
   "cell_type": "code",
   "execution_count": null,
   "id": "c1964eeb",
   "metadata": {},
   "outputs": [],
   "source": []
  }
 ],
 "metadata": {
  "kernelspec": {
   "display_name": "Python 3 (ipykernel)",
   "language": "python",
   "name": "python3"
  },
  "language_info": {
   "codemirror_mode": {
    "name": "ipython",
    "version": 3
   },
   "file_extension": ".py",
   "mimetype": "text/x-python",
   "name": "python",
   "nbconvert_exporter": "python",
   "pygments_lexer": "ipython3",
   "version": "3.9.7"
  }
 },
 "nbformat": 4,
 "nbformat_minor": 5
}
