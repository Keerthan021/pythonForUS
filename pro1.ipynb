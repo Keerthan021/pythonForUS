{
 "cells": [
  {
   "cell_type": "code",
   "execution_count": null,
   "id": "846452e1",
   "metadata": {},
   "outputs": [],
   "source": [
    "def search(numList,Key):\n",
    "    for j in range(len(numList)):\n",
    "        if(numList[j] == Key):\n",
    "            return j\n",
    "    return -1\n",
    "numList=[]\n",
    "n = int(input(\"Enter the list size\"))\n",
    "print(\"\\n\")\n",
    "for i in range(0,n):\n",
    "    print(\"Enter number at index\", i)\n",
    "    item = int(input())\n",
    "    numList.append(item)\n",
    "print(\"Array of Number\",numList)\n",
    "key=int(input(\"Enter the key Element to search \"))\n",
    "loc=search(numList,key)\n",
    "if loc==-1:\n",
    "    print(\"Item not found\")\n",
    "else:\n",
    "    print(\"Item found in location\",loc)"
   ]
  },
  {
   "cell_type": "code",
   "execution_count": null,
   "id": "fd8701c4",
   "metadata": {},
   "outputs": [],
   "source": []
  },
  {
   "cell_type": "code",
   "execution_count": 5,
   "id": "4b913313",
   "metadata": {},
   "outputs": [
    {
     "data": {
      "text/plain": [
       "5"
      ]
     },
     "execution_count": 5,
     "metadata": {},
     "output_type": "execute_result"
    }
   ],
   "source": [
    "5"
   ]
  },
  {
   "cell_type": "code",
   "execution_count": 3,
   "id": "b939b325",
   "metadata": {},
   "outputs": [
    {
     "name": "stdout",
     "output_type": "stream",
     "text": [
      "Enter an element8\n",
      "[8]\n",
      "Do you want to insert more element(0/1)1\n",
      "Enter an element6\n",
      "[6, 8]\n",
      "Do you want to insert more element(0/1)1\n",
      "Enter an element3\n",
      "[3, 6, 8]\n",
      "Do you want to insert more element(0/1)1\n",
      "Enter an element7\n",
      "[3, 6, 7, 8]\n",
      "Do you want to insert more element(0/1)0\n"
     ]
    }
   ],
   "source": [
    "li = []\n",
    "flag = 1\n",
    "while(flag):\n",
    "    ele = int(input(\"Enter an element\"))\n",
    "    j = len(li)-1\n",
    "    while(j>=0):\n",
    "        if(ele>li[j]):\n",
    "            break\n",
    "        j=j-1\n",
    "    if(len(li)==0 or j==len(li)-1):\n",
    "        li.append(ele)\n",
    "    else:\n",
    "        li.insert(j+1, ele)\n",
    "    print(li)\n",
    "    flag = int(input(\"Do you want to insert more element(0/1)\"))"
   ]
  },
  {
   "cell_type": "code",
   "execution_count": null,
   "id": "4fa9ddea",
   "metadata": {},
   "outputs": [],
   "source": []
  },
  {
   "cell_type": "code",
   "execution_count": null,
   "id": "90d2fbb3",
   "metadata": {},
   "outputs": [],
   "source": []
  }
 ],
 "metadata": {
  "kernelspec": {
   "display_name": "Python 3 (ipykernel)",
   "language": "python",
   "name": "python3"
  },
  "language_info": {
   "codemirror_mode": {
    "name": "ipython",
    "version": 3
   },
   "file_extension": ".py",
   "mimetype": "text/x-python",
   "name": "python",
   "nbconvert_exporter": "python",
   "pygments_lexer": "ipython3",
   "version": "3.9.7"
  }
 },
 "nbformat": 4,
 "nbformat_minor": 5
}
