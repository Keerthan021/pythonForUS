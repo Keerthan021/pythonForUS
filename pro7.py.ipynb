{
 "cells": [
  {
   "cell_type": "code",
   "execution_count": 6,
   "id": "152f2387",
   "metadata": {},
   "outputs": [
    {
     "data": {
      "text/plain": [
       "[[66, 68, 99, 83, 178],\n",
       " [56, 6, 196, 211, 9],\n",
       " [67, 183, 66, 117, 45],\n",
       " [233, 31, 150, 135, 247],\n",
       " [237, 181, 228, 155, 193],\n",
       " [18, 121, 198, 128, 138]]"
      ]
     },
     "execution_count": 6,
     "metadata": {},
     "output_type": "execute_result"
    }
   ],
   "source": [
    "#7\n",
    "\n",
    "from matplotlib import pyplot\n",
    "import random\n",
    "\n",
    "data = [[random.randint(0,256)for x in range(0,5)],\n",
    "         [random.randint(0,256)for x in range(0,5)],\n",
    "         [random.randint(0,256)for x in range(0,5)],\n",
    "         [random.randint(0,256)for x in range(0,5)],\n",
    "         [random.randint(0,256)for x in range(0,5)],\n",
    "         [random.randint(0,256)for x in range(0,5)]]\n",
    "data\n"
   ]
  },
  {
   "cell_type": "code",
   "execution_count": 12,
   "id": "8a370895",
   "metadata": {},
   "outputs": [
    {
     "data": {
      "text/plain": [
       "<matplotlib.image.AxesImage at 0x7f0667a424f0>"
      ]
     },
     "execution_count": 12,
     "metadata": {},
     "output_type": "execute_result"
    },
    {
     "data": {
      "image/png": "[encoded data removed]",
      "text/plain": [
       "<Figure size 360x360 with 1 Axes>"
      ]
     },
     "metadata": {
      "needs_background": "light"
     },
     "output_type": "display_data"
    }
   ],
   "source": [
    "from matplotlib import pyplot, colors\n",
    "\n",
    "pyplot.figure(figsize=(5, 5))\n",
    "\n",
    "pyplot.xlabel(\"x axis with ticks\", size=12)\n",
    "pyplot.ylabel(\"y axis with ticks\", size=12)\n",
    "\n",
    "pyplot.title(\"This is the title of the plot\", size=14)\n",
    "\n",
    "pyplot.xticks(size=14, color=\"red\")\n",
    "pyplot.yticks(size=14, color=\"red\")\n",
    "\n",
    "colormap = colors.ListedColormap([\"lightpink\", \"darkblue\"])\n",
    " \n",
    "pyplot.imshow(data, cmap = colormap)\n",
    "\n"
   ]
  },
  {
   "cell_type": "code",
   "execution_count": null,
   "id": "a229e900",
   "metadata": {},
   "outputs": [],
   "source": []
  }
 ],
 "metadata": {
  "kernelspec": {
   "display_name": "Python 3 (ipykernel)",
   "language": "python",
   "name": "python3"
  },
  "language_info": {
   "codemirror_mode": {
    "name": "ipython",
    "version": 3
   },
   "file_extension": ".py",
   "mimetype": "text/x-python",
   "name": "python",
   "nbconvert_exporter": "python",
   "pygments_lexer": "ipython3",
   "version": "3.9.7"
  }
 },
 "nbformat": 4,
 "nbformat_minor": 5
}
