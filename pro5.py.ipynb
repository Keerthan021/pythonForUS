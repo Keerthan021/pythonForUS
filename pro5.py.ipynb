{
 "cells": [
  {
   "cell_type": "code",
   "execution_count": null,
   "id": "e582e019",
   "metadata": {},
   "outputs": [
    {
     "name": "stdout",
     "output_type": "stream",
     "text": [
      "enter a number of element:4\n",
      "2\n",
      "3\n",
      "4\n",
      "6\n",
      "[2, 3, 4, 6]\n",
      "sorted array=[2 3 4 6]\n",
      "enter the value to search6\n",
      "index=(array([3]),)\n"
     ]
    }
   ],
   "source": [
    "import numpy as np\n",
    "lf=[]\n",
    "n=int(input(\"enter a number of element:\"))\n",
    "for i in range(0,n):\n",
    "    ele=int(input())\n",
    "    lf.append(ele)\n",
    "    \n",
    "print(lf)\n",
    "arr=np.array(lf)\n",
    "arr=np.sort(arr)\n",
    "print(\"sorted array={}\".format(arr))\n",
    "ele=int(input(\"enter the value to search\"))\n",
    "i=np.where(arr==ele)\n",
    "print(\"index={}\".format(i))\n",
    "s=int(input(\"enter spliting value:\"))\n",
    "narr=np.array_split(arr,s)\n",
    "print(narr)"
   ]
  },
  {
   "cell_type": "markdown",
   "id": "a6ca774c",
   "metadata": {},
   "source": [
    "## "
   ]
  },
  {
   "cell_type": "code",
   "execution_count": 8,
   "id": "58f42ae6",
   "metadata": {},
   "outputs": [
    {
     "name": "stdout",
     "output_type": "stream",
     "text": [
      "[111. 188.] (2,)\n",
      "[[ 10. 203.]\n",
      " [132. 193.]\n",
      " [145. 155.]\n",
      " [ 57. 175.]] (4, 2)\n",
      "[[-101.   15.]\n",
      " [  21.    5.]\n",
      " [  34.  -33.]\n",
      " [ -54.  -13.]] (4, 2)\n",
      "[102.10778619  21.58703314  47.38143096  55.54277631] (4,)\n"
     ]
    },
    {
     "data": {
      "text/plain": [
       "1"
      ]
     },
     "execution_count": 8,
     "metadata": {},
     "output_type": "execute_result"
    }
   ],
   "source": [
    "import numpy as np\n",
    "from numpy import array,argmin,sqrt,sum\n",
    "obs=array([111.0,188.0])\n",
    "\n",
    "code=array([[10.0,203.0],[132.0,193.0],[145.0,155.0],[57.0,175.0]])\n",
    "diff=code-obs\n",
    "dist=sqrt(sum(diff**2,axis=-1))\n",
    "print(obs,obs.shape)\n",
    "print(code,code.shape)\n",
    "print(diff,diff.shape)\n",
    "print(dist,dist.shape)\n",
    "argmin(dist)\n"
   ]
  },
  {
   "cell_type": "code",
   "execution_count": 3,
   "id": "28d975bd",
   "metadata": {},
   "outputs": [
    {
     "data": {
      "text/plain": [
       "<AxesSubplot:>"
      ]
     },
     "execution_count": 3,
     "metadata": {},
     "output_type": "execute_result"
    },
    {
     "data": {
      "image/png": "[encoded data removed]",
      "text/plain": [
       "<Figure size 432x288 with 1 Axes>"
      ]
     },
     "metadata": {
      "needs_background": "light"
     },
     "output_type": "display_data"
    }
   ],
   "source": []
  },
  {
   "cell_type": "code",
   "execution_count": 4,
   "id": "d794bb2b",
   "metadata": {},
   "outputs": [
    {
     "data": {
      "image/png": "[encoded data removed]",
      "text/plain": [
       "<Figure size 432x288 with 1 Axes>"
      ]
     },
     "metadata": {
      "needs_background": "light"
     },
     "output_type": "display_data"
    }
   ],
   "source": []
  },
  {
   "cell_type": "code",
   "execution_count": 6,
   "id": "c3668904",
   "metadata": {},
   "outputs": [
    {
     "data": {
      "image/png": "[encoded data removed]",
      "text/plain": [
       "<Figure size 432x288 with 1 Axes>"
      ]
     },
     "metadata": {
      "needs_background": "light"
     },
     "output_type": "display_data"
    }
   ],
   "source": []
  },
  {
   "cell_type": "code",
   "execution_count": null,
   "id": "4a4979fe",
   "metadata": {},
   "outputs": [],
   "source": []
  },
  {
   "cell_type": "code",
   "execution_count": null,
   "id": "997ba649",
   "metadata": {},
   "outputs": [],
   "source": []
  }
 ],
 "metadata": {
  "kernelspec": {
   "display_name": "Python 3 (ipykernel)",
   "language": "python",
   "name": "python3"
  },
  "language_info": {
   "codemirror_mode": {
    "name": "ipython",
    "version": 3
   },
   "file_extension": ".py",
   "mimetype": "text/x-python",
   "name": "python",
   "nbconvert_exporter": "python",
   "pygments_lexer": "ipython3",
   "version": "3.9.7"
  }
 },
 "nbformat": 4,
 "nbformat_minor": 5
}
